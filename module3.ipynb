#1) Write a code to reverse a string
#Ans:
s="Hello, World!"

print(s[::-1])

# output  !dlroW ,olleH  


#2)Write a code to count the number of vowels in a string
r=" i am good at nothing but still trying"

for i in r:
    if i in 'aeiouAEIOU':
        print(i, end=' ')   

    else:
        continue
print("\n")  # Print a newline for better readability    

#output ----  i a o o a o i u i i 

#3)Write a code to check if a given string is a palindrome or not
def  paladrome(s):
    s=s.lower()
    if s==s[::-1]:
        return True
    
    else:
        return False    
s = "madam"
if paladrome(s):    
    print(f"{s} is a palindrome")
else:
    print(f"{s} is not a palindrome")
    

    #output   ---- madam is a palindrome

#4) Write a code to check if two given strings are anagrams of each other
def anagram(str1,str2):
     
    str1=str1.lower()
    str2=str2.lower()
    if sorted(str1) == sorted(str2):
        
        return True
        
    else:
         return False
str1 = "listen"
str2 = "silent"

if anagram(str1, str2):
    print(f"{str1} and {str2} are anagrams")
else:
    print(f"{str1} and {str2} are not anagrams")

#OUTPUT  -----listen and silent are anagrams

#5) Write a code to find all occurrences of a given substring within another string?
string = "Hello, Hi, Hello"
substring = "walla"
# Simple code to find all occurrences of a substring
indices = [i for i in range(len(string)) if string.startswith(substring, i)]
print("Occurrences at indices:", indices)

index = string.find(substring)
if index == -1:
    print(f"substring '{substring}' not found in string")
else:
    while index != -1:
        print(f"substring '{substring}' found at index {index}")
        index = string.find(substring, index + 1)

#oUTPUT

#6)Write a code to perform basic string compression using the counts of repeated characters
def compress_string(s):
    if not s:
        return ""
    compressed = []
    count = 1
    for i in range(1, len(s)):
        if s[i] == s[i - 1]:
            count += 1
        else:
            compressed.append(s[i - 1] + str(count))
            count = 1
    compressed.append(s[-1] + str(count))
    return ''.join(compressed)

s = "aaabbccccdaa"
print(compress_string(s))  
# Output: a3b2c4d1a2


#7) Write a code to determine if a string has all unique characters?
def unique(s):
     s=s.lower()
     if len(s)== len(set(s)):
          return True   
     else:

       return False

s = "abcdefg"
if unique(s):
  print("s has unique characters")
else:
    print("s has  not unique characters")

#8)Write a code to convert a given string to uppercase or lowercase
str= "i am doing my job"

def upper(str):
    return str.upper()
def lower(str):
    return str.lower()
print("Uppercase:", upper(str))
print("Lowercase:", lower(str))

#9)Write a code to count the number of words in a string?

str1= "Hello, how are you doing today?"
str2= str1.split(',')

str3=str1.split('o')


def coun(str):
    str=str2
    len(str)

    return len(str) 
print("Number of words in the string:", coun(str))

def cou2(str):  
    str=str3
    len(str)

    return len(str)
print("Number of words in the string:", cou2(str))


#10) Write a code to concatenate two strings without using the + operator
stx="hello"
str="seige"
x=stx.join(str)
print(x)

#11 Write a code to remove all occurrences of a specific element from a list
x= [1,2,3,4,5,6,7,1,1,1,1,1]
y=1
print("my world")
while i in x:
    print(x.remove(y))

x = [1, 2, 3, 4, 5, 6, 7, 1, 1, 1, 1, 1]
y = 1

#12) Using list comprehension to remove all occurrences of y
 # values taken from above 
x = [item for item in x if item != y]
print(x)

#13) # Create a code to count the occurrences of each element in a list and return a dictionary with elements as keys and their counts as values
def count_occurrences(lst):
    counts = {}
    for item in lst:
        if item in counts:
            counts[item] += 1
        else:
            counts[item] = 1
    return counts

my_list = [1, 2, 2, 3, 4, 4, 4, 5]
result = count_occurrences(my_list)
print(result)  

# Output: {1: 1, 2: 2, 3: 1, 4: 3, 5: 1}

#14 Write a code to reverse a list in-place without using any built-in reverse functions

LISR = [1, 2, 3, 43, 5]
n = len(LISR)
for i in range(n // 2):
    LISR[i], LISR[n - i - 1] = LISR[n - i - 1], LISR[i]
print(LISR)

#15 Implement a code to find and remove duplicates from a list while preserving the original order of
#elements
def remove_duplicates(lst):
    nex = set()
    result = []
    for item in lst:
        if item not in nex:
            nex.add(item)
            result.append(item)
    return result

lst = [1, 2, 2, 3, 4, 4, 5, 1]
print(remove_duplicates(lst))  

#16 Create a code to check if a given list is sorted (either in ascending or descending order) or not
lisy=[4,6,9,3,1,3]
def is_sorted(lst):
    return lisy == sorted(lisy) or lisy == sorted(lisy, reverse=True)


if is_sorted(lisy):
  print("The list is sorted.")
else:
    print("The list is not sorted.")
lisy = [4, 6, 9, 3, 1, 3]

#17 Write a code to merge two sorted lists into a single sorted list
lis1=[1,6,7,9]
list2=[9,6,1,2,4]
y=sorted(lis1)
x=sorted(list2)

c=x+y

print(sorted(c))

#18Implement a code to find the intersection of two given lists

x=[9,6,4,3,2,34,1,2,3,4]
y=[12,3,4,5,6,7,8,9,90,0,9,6,4,3,2,1]
z=list(set(x)&set(y))
print("the intersection of set a and b",z)

    
#19 Create a code to find the union of two lists without duplicates

a = [1, 2, 3, 4, 5]
b = [4, 5, 6, 7, 8]
union = list(set(a) | set(b))
print("Union of the two lists without duplicates:", union)





